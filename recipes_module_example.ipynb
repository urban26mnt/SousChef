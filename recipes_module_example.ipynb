{
 "cells": [
  {
   "cell_type": "code",
   "execution_count": 1,
   "id": "58af35b0",
   "metadata": {},
   "outputs": [],
   "source": [
    "import recipes"
   ]
  },
  {
   "cell_type": "code",
   "execution_count": 2,
   "id": "54c0efb2",
   "metadata": {},
   "outputs": [],
   "source": [
    "URL = [\n",
    "    \"https://www.cookinglight.com/recipes/lentil-salad-with-beets-and-spinach\",\n",
    "    \"https://www.cookinglight.com/recipes/one-pot-pasta-spinach-tomatoes\",\n",
    "    \"https://www.cookinglight.com/recipes/pot-roast-sliders-with-pepperoncini-cabbage-slaw\",\n",
    "    \"https://www.cookinglight.com/recipes/tarragon-lamb-shanks-with-cannellini-beans\",\n",
    "    \"https://www.cookinglight.com/recipes/fluffiest-multigrain-pancakes-almond-butter-drizzle\",\n",
    "    \"https://www.cookinglight.com/recipes/shirred-eggs-marinara-feta\",\n",
    "    \"https://www.foodnetwork.com/recipes/marcela-valladolid/chicken-enchiladas-recipe-1924424\",\n",
    "    \"https://www.foodnetwork.com/recipes/rachael-ray/balsamic-roast-pork-tenderloins-recipe-1951758\",\n",
    "    \"https://www.foodnetwork.com/recipes/ree-drummond/stuffed-bell-peppers-3325315\",\n",
    "    \"https://www.foodnetwork.com/recipes/ree-drummond/tater-tot-breakfast-casserole-4607655\"\n",
    "]"
   ]
  },
  {
   "cell_type": "code",
   "execution_count": 12,
   "id": "ffcb4093",
   "metadata": {},
   "outputs": [
    {
     "name": "stdout",
     "output_type": "stream",
     "text": [
      "new recipe\n"
     ]
    }
   ],
   "source": [
    "test_url = URL[7]\n",
    "\n",
    "# Check if recipe has already been loaded:\n",
    "recipe_id = recipes.recipe_id_from_url(test_url)\n",
    "\n",
    "if recipe_id is not None:\n",
    "    print(f\"Recipe already downloaded. id: {recipe_id}\")\n",
    "else:\n",
    "    print('new recipe')\n"
   ]
  },
  {
   "cell_type": "code",
   "execution_count": 13,
   "id": "ecd4f182",
   "metadata": {},
   "outputs": [
    {
     "data": {
      "text/plain": [
       "'Recipe successfully added.'"
      ]
     },
     "execution_count": 13,
     "metadata": {},
     "output_type": "execute_result"
    }
   ],
   "source": [
    "result = recipes.add_recipe(test_url)\n",
    "result"
   ]
  },
  {
   "attachments": {},
   "cell_type": "markdown",
   "id": "ff0dabad",
   "metadata": {},
   "source": [
    "## Examples of Adding Recipe Using Functions within Add Recipes"
   ]
  },
  {
   "cell_type": "code",
   "execution_count": 4,
   "id": "1d4b283f",
   "metadata": {},
   "outputs": [],
   "source": [
    "\n",
    "# Adding a recipe - use fetch_from_url\n",
    "status, html = recipes.fetch_from_url(test_url)\n",
    "\n",
    "# returns a status code and from the request - this function will throw an error with invalid URL. (TODO)\n",
    "if status == 200:\n",
    "    # Use html with a good status code to parse the recipe from the site.\n",
    "    # The url is passed to the function to save the source url.\n",
    "    recipe = recipes.html_to_recipe(html, test_url)\n",
    "else:\n",
    "    print(f'Returned error status: {status}, message: {html}')\n"
   ]
  },
  {
   "cell_type": "code",
   "execution_count": 14,
   "id": "3c24be77",
   "metadata": {},
   "outputs": [
    {
     "data": {
      "text/plain": [
       "['0: Lentil Salad With Beets and Spinach',\n",
       " '1: One-Pot Pasta With Spinach and Tomatoes',\n",
       " '2: Pot Roast Sliders with Pepperoncini- Cabbage Slaw',\n",
       " '3: Tarragon Lamb Shanks with Cannellini Beans',\n",
       " '4: Chicken Enchiladas',\n",
       " '5: Balsamic Roast Pork Tenderloins']"
      ]
     },
     "execution_count": 14,
     "metadata": {},
     "output_type": "execute_result"
    }
   ],
   "source": [
    "# Retrieve list of saved recipes:\n",
    "list_of_recipes = recipes.recipe_list()\n",
    "list_of_recipes"
   ]
  },
  {
   "cell_type": "code",
   "execution_count": 6,
   "id": "b30ec301",
   "metadata": {},
   "outputs": [],
   "source": [
    "# Retrive recipe id from recipe name:\n",
    "test_name = ''\n",
    "id = recipes.recipe_id_from_name(test_name)"
   ]
  },
  {
   "cell_type": "code",
   "execution_count": 7,
   "id": "ef0c2168",
   "metadata": {},
   "outputs": [
    {
     "name": "stdout",
     "output_type": "stream",
     "text": [
      "['sherry vinegar', 'Dijon mustard', 'black pepper', 'olive oil', 'precooked lentils', 'Roasted Golden Beet', 'baby spinach', 'chopped toasted walnuts', 'crumbled Cotija cheese']\n"
     ]
    }
   ],
   "source": [
    "# Retrieve list of ingredients for a recipe\n",
    "shopping_list = recipes.shopping_list(0)\n",
    "print(shopping_list)"
   ]
  }
 ],
 "metadata": {
  "kernelspec": {
   "display_name": "base",
   "language": "python",
   "name": "python3"
  },
  "language_info": {
   "codemirror_mode": {
    "name": "ipython",
    "version": 3
   },
   "file_extension": ".py",
   "mimetype": "text/x-python",
   "name": "python",
   "nbconvert_exporter": "python",
   "pygments_lexer": "ipython3",
   "version": "3.9.13"
  },
  "vscode": {
   "interpreter": {
    "hash": "a7b3f02f5036c5851940aef2bc0bbbf0c0d65255443fa438f93948c1d0a4325e"
   }
  }
 },
 "nbformat": 4,
 "nbformat_minor": 5
}
