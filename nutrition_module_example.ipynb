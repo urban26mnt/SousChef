{
 "cells": [
  {
   "cell_type": "code",
   "execution_count": 1,
   "metadata": {},
   "outputs": [],
   "source": [
    "import recipes\n",
    "import nutrition"
   ]
  },
  {
   "cell_type": "code",
   "execution_count": 2,
   "metadata": {},
   "outputs": [
    {
     "data": {
      "text/plain": [
       "['sherry vinegar',\n",
       " 'Dijon mustard',\n",
       " 'black pepper',\n",
       " 'olive oil',\n",
       " 'precooked lentils',\n",
       " 'Roasted Golden Beet',\n",
       " 'baby spinach',\n",
       " 'chopped toasted walnuts',\n",
       " 'crumbled Cotija cheese']"
      ]
     },
     "execution_count": 2,
     "metadata": {},
     "output_type": "execute_result"
    }
   ],
   "source": [
    "shopping_list = recipes.shopping_list(0)\n",
    "shopping_list"
   ]
  },
  {
   "cell_type": "code",
   "execution_count": 3,
   "metadata": {},
   "outputs": [
    {
     "data": {
      "text/plain": [
       "{'Protein': 69.15,\n",
       " 'Carbohydrate, by difference': 197.95000000000002,\n",
       " 'Energy': 3566.0,\n",
       " 'Sugars, total including NLEA': 11.12,\n",
       " 'Fiber, total dietary': 45.199999999999996,\n",
       " 'Cholesterol': 304.0,\n",
       " 'Fatty acids, total saturated': 44.403,\n",
       " 'Water': 228.3,\n",
       " 'Magnesium, Mg': 96.0,\n",
       " 'Vitamin D (D2 + D3), International Units': 21.0}"
      ]
     },
     "execution_count": 3,
     "metadata": {},
     "output_type": "execute_result"
    }
   ],
   "source": [
    "nutrition_info = nutrition.fetch_nutrition(shopping_list)\n",
    "nutrition_info"
   ]
  },
  {
   "cell_type": "code",
   "execution_count": 2,
   "metadata": {},
   "outputs": [
    {
     "ename": "IndexError",
     "evalue": "list index out of range",
     "output_type": "error",
     "traceback": [
      "\u001b[1;31m---------------------------------------------------------------------------\u001b[0m",
      "\u001b[1;31mIndexError\u001b[0m                                Traceback (most recent call last)",
      "\u001b[1;32m~\\AppData\\Local\\Temp/ipykernel_3444/3117910918.py\u001b[0m in \u001b[0;36m<module>\u001b[1;34m\u001b[0m\n\u001b[1;32m----> 1\u001b[1;33m \u001b[0mrecipes\u001b[0m\u001b[1;33m.\u001b[0m\u001b[0mmy_recipes\u001b[0m\u001b[1;33m[\u001b[0m\u001b[1;36m0\u001b[0m\u001b[1;33m]\u001b[0m\u001b[1;33m\u001b[0m\u001b[1;33m\u001b[0m\u001b[0m\n\u001b[0m",
      "\u001b[1;31mIndexError\u001b[0m: list index out of range"
     ]
    }
   ],
   "source": []
  }
 ],
 "metadata": {
  "kernelspec": {
   "display_name": "Python 3",
   "language": "python",
   "name": "python3"
  },
  "language_info": {
   "codemirror_mode": {
    "name": "ipython",
    "version": 3
   },
   "file_extension": ".py",
   "mimetype": "text/x-python",
   "name": "python",
   "nbconvert_exporter": "python",
   "pygments_lexer": "ipython3",
   "version": "3.9.7"
  },
  "orig_nbformat": 4,
  "vscode": {
   "interpreter": {
    "hash": "c9a841ab5fb5360c2dbecf89fdd48b85ab17c76b03edf68477a16c76466d3526"
   }
  }
 },
 "nbformat": 4,
 "nbformat_minor": 2
}
