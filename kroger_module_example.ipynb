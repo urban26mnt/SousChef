{
 "cells": [
  {
   "cell_type": "code",
   "execution_count": 55,
   "metadata": {},
   "outputs": [],
   "source": [
    "import recipes\n",
    "import json\n",
    "from statistics import mean"
   ]
  },
  {
   "cell_type": "code",
   "execution_count": 58,
   "metadata": {},
   "outputs": [],
   "source": [
    "with open('kroger/product_search_results.txt', encoding='utf-8', mode='rt') as f:\n",
    "    prod_data = f.read()\n",
    "    kroger_products = json.loads(prod_data)\n"
   ]
  },
  {
   "cell_type": "code",
   "execution_count": 61,
   "metadata": {},
   "outputs": [
    {
     "name": "stdout",
     "output_type": "stream",
     "text": [
      "'milk' price estimate: 2.73\n",
      "'cookies' returned no pricing data.\n"
     ]
    }
   ],
   "source": [
    "for search_term in kroger_products.keys():\n",
    "    # print(kroger_products[search_term])\n",
    "\n",
    "    price_estimate = []\n",
    "    for result in kroger_products[search_term]:\n",
    "        if 'price' in result['items'][0].keys():\n",
    "            price_estimate.append(result['items'][0]['price']['regular'])\n",
    "    \n",
    "    if len(price_estimate) != 0:\n",
    "        print(f\"'{search_term}' price estimate: {mean(price_estimate)}\")\n",
    "    else:\n",
    "        print(f\"'{search_term}' returned no pricing data.\")\n"
   ]
  }
 ],
 "metadata": {
  "kernelspec": {
   "display_name": "Python 3",
   "language": "python",
   "name": "python3"
  },
  "language_info": {
   "name": "python",
   "version": "3.9.7"
  },
  "orig_nbformat": 4,
  "vscode": {
   "interpreter": {
    "hash": "c9a841ab5fb5360c2dbecf89fdd48b85ab17c76b03edf68477a16c76466d3526"
   }
  }
 },
 "nbformat": 4,
 "nbformat_minor": 2
}
